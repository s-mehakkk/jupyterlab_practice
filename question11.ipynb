{
 "cells": [
  {
   "cell_type": "markdown",
   "id": "594b8b48",
   "metadata": {},
   "source": [
    "# Baljinder Mokha\n",
    "Notebook for assignment 7."
   ]
  },
  {
   "cell_type": "code",
   "execution_count": 2,
   "id": "5f3d314e",
   "metadata": {},
   "outputs": [
    {
     "name": "stdout",
     "output_type": "stream",
     "text": [
      "5.0\n"
     ]
    }
   ],
   "source": [
    "def compute_mean(numbers):\n",
    "    return sum(numbers) / len(numbers)\n",
    "\n",
    "print(compute_mean([2, 4, 6, 8]))"
   ]
  },
  {
   "cell_type": "markdown",
   "id": "49965564",
   "metadata": {},
   "source": [
    "### Two ways to express the equation of the mean in LaTeX are:\n",
    "$$\n",
    "\\begin{aligned}\n",
    "\\bar{x} = \\frac{x_1 + x_2 + \\ldots + x_n}{n} = \\frac{1}{n} \\left( \\sum_{i=1}^{n} x_i \\right)\n",
    "\\end{aligned}\n",
    "$$"
   ]
  }
 ],
 "metadata": {
  "kernelspec": {
   "display_name": "Python 3 (ipykernel)",
   "language": "python",
   "name": "python3"
  },
  "language_info": {
   "codemirror_mode": {
    "name": "ipython",
    "version": 3
   },
   "file_extension": ".py",
   "mimetype": "text/x-python",
   "name": "python",
   "nbconvert_exporter": "python",
   "pygments_lexer": "ipython3",
   "version": "3.9.13"
  }
 },
 "nbformat": 4,
 "nbformat_minor": 5
}
